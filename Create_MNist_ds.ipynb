{
 "cells": [
  {
   "cell_type": "code",
   "execution_count": 1,
   "id": "54820c1a-39be-4ccf-a162-32ec95946942",
   "metadata": {},
   "outputs": [
    {
     "name": "stderr",
     "output_type": "stream",
     "text": [
      "/Users/adamgoldstein/opt/anaconda3/lib/python3.9/site-packages/hub/util/check_latest_version.py:32: UserWarning: A newer version of hub (2.7.5) is available. It's recommended that you update to the latest version using `pip install -U hub`.\n",
      "  warnings.warn(\n"
     ]
    }
   ],
   "source": [
    "from pinata import Pinata\n",
    "from metadata import DatasetMetadata\n",
    "from activeloop import ActiveLoopDS\n",
    "import pandas as pd\n",
    "import pickle\n",
    "pd.set_option('display.max_colwidth', 1000)"
   ]
  },
  {
   "cell_type": "code",
   "execution_count": 2,
   "id": "3dfccb53-4fca-4ebf-864f-042911b0ef8c",
   "metadata": {},
   "outputs": [],
   "source": [
    "AL = ActiveLoopDS(\"hub://activeloop\",path=\"mnist\")"
   ]
  },
  {
   "cell_type": "code",
   "execution_count": 3,
   "id": "e36b7d62-0168-4a35-a4f2-a03842bafcad",
   "metadata": {},
   "outputs": [
    {
     "name": "stdout",
     "output_type": "stream",
     "text": [
      "hub://activeloop/mnist-train loaded successfully.\n",
      "This dataset can be visualized in Jupyter Notebook by ds.visualize() or at https://app.activeloop.ai/activeloop/mnist-train\n",
      "hub://activeloop/mnist-test loaded successfully.\n",
      "This dataset can be visualized in Jupyter Notebook by ds.visualize() or at https://app.activeloop.ai/activeloop/mnist-test\n"
     ]
    }
   ],
   "source": [
    "AL.load_dataset()"
   ]
  },
  {
   "cell_type": "code",
   "execution_count": 4,
   "id": "f7c0c644-2439-49ac-b82e-a6cdeaa818df",
   "metadata": {},
   "outputs": [],
   "source": [
    "train_images = AL.train.images.numpy()"
   ]
  },
  {
   "cell_type": "code",
   "execution_count": 5,
   "id": "e643f655-ad9d-4965-9673-e663a350e060",
   "metadata": {},
   "outputs": [
    {
     "data": {
      "text/plain": [
       "(60000, 28, 28)"
      ]
     },
     "execution_count": 5,
     "metadata": {},
     "output_type": "execute_result"
    }
   ],
   "source": [
    "train_images.shape"
   ]
  },
  {
   "cell_type": "code",
   "execution_count": 6,
   "id": "9079a1a4-e222-463e-babe-2b890b1eb714",
   "metadata": {},
   "outputs": [],
   "source": [
    "train_labels = AL.train.labels.numpy()"
   ]
  },
  {
   "cell_type": "code",
   "execution_count": 7,
   "id": "8bd6e117-1f5e-47ad-bfe6-2cd76ada5383",
   "metadata": {},
   "outputs": [],
   "source": [
    "test_images = AL.test.images.numpy()"
   ]
  },
  {
   "cell_type": "code",
   "execution_count": 8,
   "id": "7af4d8b9-c2e8-4c80-bc47-459b1a6f110c",
   "metadata": {},
   "outputs": [],
   "source": [
    "test_labels = AL.test.labels.numpy()"
   ]
  },
  {
   "cell_type": "code",
   "execution_count": 9,
   "id": "99ff8a48-40a4-44da-8b8d-1ea271fc2af0",
   "metadata": {},
   "outputs": [
    {
     "data": {
      "text/plain": [
       "(10000, 28, 28)"
      ]
     },
     "execution_count": 9,
     "metadata": {},
     "output_type": "execute_result"
    }
   ],
   "source": [
    "test_images.shape"
   ]
  },
  {
   "cell_type": "code",
   "execution_count": 10,
   "id": "9286043f-3664-499b-b09e-3f93c0b30e72",
   "metadata": {},
   "outputs": [],
   "source": [
    "import os"
   ]
  },
  {
   "cell_type": "code",
   "execution_count": 12,
   "id": "41f759d4-3ca9-47f6-83db-80bf33a6cdda",
   "metadata": {},
   "outputs": [],
   "source": [
    "os.mkdir(\"mnist\")\n",
    "\n",
    "os.mkdir(\"mnist/train\")\n",
    "\n",
    "os.mkdir(\"mnist/test\")"
   ]
  },
  {
   "cell_type": "code",
   "execution_count": 15,
   "id": "e9a8f109-deea-4e38-824d-098d5bf7ff1f",
   "metadata": {
    "tags": []
   },
   "outputs": [],
   "source": [
    "import imageio\n",
    "from tqdm import tqdm\n",
    "\n",
    "def write_mnist_todisk(parent_directory,images,labels):\n",
    "    \n",
    "    counter = 0\n",
    "\n",
    "    for img,label in tqdm(zip(images, labels)):\n",
    "\n",
    "        path = os.path.join(parent_directory, str(label[0]))\n",
    "\n",
    "        if os.path.exists(path):\n",
    "\n",
    "            imageio.imwrite(os.path.join(path,f\"{str(counter)}.jpg\"),img)\n",
    "\n",
    "        else:\n",
    "            os.mkdir(path)\n",
    "            imageio.imwrite(os.path.join(path,f\"{str(counter)}.jpg\"),img)\n",
    "\n",
    "        counter += 1\n",
    "        \n",
    "    print(\"Done, images can be found at\",parent_directory)\n",
    "    "
   ]
  },
  {
   "cell_type": "code",
   "execution_count": 16,
   "id": "61ec80e9-0df1-4cb0-a620-a8d8099a13d1",
   "metadata": {},
   "outputs": [
    {
     "name": "stderr",
     "output_type": "stream",
     "text": [
      "60000it [00:42, 1400.08it/s]"
     ]
    },
    {
     "name": "stdout",
     "output_type": "stream",
     "text": [
      "Done, images can be found at mnist/train\n"
     ]
    },
    {
     "name": "stderr",
     "output_type": "stream",
     "text": [
      "\n"
     ]
    }
   ],
   "source": [
    "write_mnist_todisk(parent_directory=\"mnist/train\",images=train_images,labels=train_labels)"
   ]
  },
  {
   "cell_type": "code",
   "execution_count": 17,
   "id": "ad125a36-5b24-4e12-9922-a19e5c2a356d",
   "metadata": {},
   "outputs": [
    {
     "name": "stderr",
     "output_type": "stream",
     "text": [
      "10000it [00:06, 1452.30it/s]"
     ]
    },
    {
     "name": "stdout",
     "output_type": "stream",
     "text": [
      "Done, images can be found at mnist/test\n"
     ]
    },
    {
     "name": "stderr",
     "output_type": "stream",
     "text": [
      "\n"
     ]
    }
   ],
   "source": [
    "write_mnist_todisk(parent_directory=\"mnist/test\",images=test_images,labels=test_labels)"
   ]
  },
  {
   "cell_type": "code",
   "execution_count": 18,
   "id": "ac95c27a-26c1-4b1d-ac36-4c19c08dfb18",
   "metadata": {},
   "outputs": [
    {
     "data": {
      "image/png": "[encoded data removed]",
      "text/plain": [
       "<Figure size 432x288 with 1 Axes>"
      ]
     },
     "metadata": {
      "needs_background": "light"
     },
     "output_type": "display_data"
    }
   ],
   "source": [
    "import imageio\n",
    "\n",
    "import matplotlib.pyplot as plt\n",
    "\n",
    "\n",
    "img = imageio.imread('mnist/test/0/10.jpg')\n",
    "plt.imshow(img)\n",
    "plt.show()"
   ]
  },
  {
   "cell_type": "code",
   "execution_count": 19,
   "id": "9eaa3c47-f22b-4adb-bbdd-640573548518",
   "metadata": {},
   "outputs": [
    {
     "ename": "AssertionError",
     "evalue": "",
     "output_type": "error",
     "traceback": [
      "\u001b[0;31m---------------------------------------------------------------------------\u001b[0m",
      "\u001b[0;31mAssertionError\u001b[0m                            Traceback (most recent call last)",
      "\u001b[0;32m/var/folders/bw/949q2z111js28qksbjv6ww_m0000gn/T/ipykernel_63521/351952524.py\u001b[0m in \u001b[0;36m<module>\u001b[0;34m\u001b[0m\n\u001b[0;32m----> 1\u001b[0;31m \u001b[0;32massert\u001b[0m \u001b[0;36m1\u001b[0m \u001b[0;34m==\u001b[0m \u001b[0;36m0\u001b[0m\u001b[0;34m\u001b[0m\u001b[0;34m\u001b[0m\u001b[0m\n\u001b[0m",
      "\u001b[0;31mAssertionError\u001b[0m: "
     ]
    }
   ],
   "source": [
    "assert 1 == 0"
   ]
  },
  {
   "cell_type": "markdown",
   "id": "66a99733-422b-4bfc-92dd-429f65b809d3",
   "metadata": {
    "tags": []
   },
   "source": [
    "# IPFSpy"
   ]
  },
  {
   "cell_type": "code",
   "execution_count": null,
   "id": "7f906387-3a6e-4f43-b290-9fa0e510923b",
   "metadata": {},
   "outputs": [],
   "source": [
    "from ipfspy.ipfsspec import asyn\n",
    "\n",
    "from ipfspy.ipfshttpapi import IPFSApi"
   ]
  },
  {
   "cell_type": "code",
   "execution_count": null,
   "id": "7ae3f3c7-51cd-491a-ad0d-97f91359257e",
   "metadata": {},
   "outputs": [],
   "source": [
    "a = asyn.AsyncIPFSFileSystem()"
   ]
  },
  {
   "cell_type": "code",
   "execution_count": null,
   "id": "6e7c8d55-dc28-4be1-8e72-ffc633eda41a",
   "metadata": {},
   "outputs": [],
   "source": [
    "api =  IPFSApi()"
   ]
  },
  {
   "cell_type": "code",
   "execution_count": null,
   "id": "93387312-c399-45f8-ad71-a822e03409da",
   "metadata": {},
   "outputs": [],
   "source": [
    "add_item = api.add_items(\"mnist/A_test/\",directory=True,  wrap_with_directory=True,pin=True)"
   ]
  },
  {
   "cell_type": "code",
   "execution_count": null,
   "id": "72230806-4998-4791-ace0-57e475f08639",
   "metadata": {},
   "outputs": [],
   "source": [
    "add_item"
   ]
  },
  {
   "cell_type": "code",
   "execution_count": null,
   "id": "53df0e1f-77da-4f4a-97f1-20228ae5929d",
   "metadata": {},
   "outputs": [],
   "source": []
  }
 ],
 "metadata": {
  "kernelspec": {
   "display_name": "Python 3 (ipykernel)",
   "language": "python",
   "name": "python3"
  },
  "language_info": {
   "codemirror_mode": {
    "name": "ipython",
    "version": 3
   },
   "file_extension": ".py",
   "mimetype": "text/x-python",
   "name": "python",
   "nbconvert_exporter": "python",
   "pygments_lexer": "ipython3",
   "version": "3.9.7"
  }
 },
 "nbformat": 4,
 "nbformat_minor": 5
}
