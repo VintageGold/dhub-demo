{
 "cells": [
  {
   "cell_type": "code",
   "execution_count": 114,
   "id": "74a3b6e7-fa1d-4f7a-9b99-d6a7cf232551",
   "metadata": {},
   "outputs": [
    {
     "name": "stdout",
     "output_type": "stream",
     "text": [
      "Requirement already satisfied: numpy in /Users/adamgoldstein/opt/anaconda3/lib/python3.9/site-packages (1.20.3)\n",
      "Requirement already satisfied: imageio in /Users/adamgoldstein/opt/anaconda3/lib/python3.9/site-packages (2.9.0)\n",
      "Requirement already satisfied: matplotlib in /Users/adamgoldstein/opt/anaconda3/lib/python3.9/site-packages (3.4.3)\n",
      "Requirement already satisfied: pillow in /Users/adamgoldstein/opt/anaconda3/lib/python3.9/site-packages (from imageio) (8.4.0)\n",
      "Requirement already satisfied: kiwisolver>=1.0.1 in /Users/adamgoldstein/opt/anaconda3/lib/python3.9/site-packages (from matplotlib) (1.3.1)\n",
      "Requirement already satisfied: cycler>=0.10 in /Users/adamgoldstein/opt/anaconda3/lib/python3.9/site-packages (from matplotlib) (0.10.0)\n",
      "Requirement already satisfied: pyparsing>=2.2.1 in /Users/adamgoldstein/opt/anaconda3/lib/python3.9/site-packages (from matplotlib) (3.0.7)\n",
      "Requirement already satisfied: python-dateutil>=2.7 in /Users/adamgoldstein/opt/anaconda3/lib/python3.9/site-packages (from matplotlib) (2.8.1)\n",
      "Requirement already satisfied: six in /Users/adamgoldstein/opt/anaconda3/lib/python3.9/site-packages (from cycler>=0.10->matplotlib) (1.16.0)\n"
     ]
    }
   ],
   "source": [
    "!pip install numpy imageio matplotlib"
   ]
  },
  {
   "cell_type": "code",
   "execution_count": 112,
   "id": "8e1c77ae-e876-424e-b026-a97723266fc9",
   "metadata": {},
   "outputs": [],
   "source": [
    "import requests\n",
    "\n",
    "#recursive\n",
    "def get_cid(cid):\n",
    "    \n",
    "    responses = []\n",
    "    \n",
    "    params = {\n",
    "        'arg': cid,\n",
    "        'progress': 'true',\n",
    "    }\n",
    "\n",
    "    response = requests.post('http://127.0.0.1:5001/api/v0/cat', params=params)\n",
    "    \n",
    "    return response\n",
    "\n",
    "\n",
    "def get_dag(cid):\n",
    "    \n",
    "    params = {\n",
    "        'arg': cid,\n",
    "        'output-codec': 'dag-json',\n",
    "    }\n",
    "\n",
    "    response = requests.post('http://127.0.0.1:5001/api/v0/dag/get', params=params)\n",
    "    \n",
    "    cid_dict = [cid[\"Cid\"] for cid in response.json()[\"links\"]]\n",
    "    \n",
    "    cids_list = [cid[\"/\"] for cid in cid_dict]\n",
    "    \n",
    "    return cids_list\n",
    "\n",
    "\n",
    "def get_sample(cids:list,size=2):\n",
    "               \n",
    "    files = []\n",
    "    \n",
    "    \n",
    "    if not isinstance(cids,list):\n",
    "        raise TypeError(\"cids must be a list\")\n",
    "                \n",
    "    for cid in cids:\n",
    "\n",
    "        if len(files) < size:\n",
    "            response = get_cid(cid)\n",
    "\n",
    "            if response.status_code == 200:\n",
    "\n",
    "                files.append(response.content)\n",
    "\n",
    "            else:\n",
    "                dag = get_dag(cid)\n",
    "                cids +=dag #adds the list cids from dag to cids\n",
    "\n",
    "        else:\n",
    "            break\n",
    "\n",
    "    return files\n",
    "\n",
    "        \n",
    "        "
   ]
  },
  {
   "cell_type": "code",
   "execution_count": 113,
   "id": "c161d8ce-bdd3-4c2f-8995-0f4036f3e784",
   "metadata": {},
   "outputs": [
    {
     "name": "stdout",
     "output_type": "stream",
     "text": [
      "572 ms ± 13 ms per loop (mean ± std. dev. of 7 runs, 1 loop each)\n"
     ]
    }
   ],
   "source": [
    "#QmU7Q4YugrhqcjChpLaEZNiK7E98ih6Zp3kPuTFst3agLM is the cid of M\n",
    "\n",
    "sample = get_sample([\"QmU7Q4YugrhqcjChpLaEZNiK7E98ih6Zp3kPuTFst3agLM\"],size=100)\n",
    "\n",
    "len(sample)"
   ]
  },
  {
   "cell_type": "code",
   "execution_count": 109,
   "id": "52b3f02b-a46e-482b-8c92-5b0ad5ac4fb3",
   "metadata": {},
   "outputs": [],
   "source": [
    "import numpy as np\n",
    "\n",
    "state = np.random.RandomState(42)\n",
    "\n",
    "random_sample = state.choice(sample,size=10,replace=False)"
   ]
  },
  {
   "cell_type": "code",
   "execution_count": 110,
   "id": "75758582-3f5c-4709-a090-4768bb2b668e",
   "metadata": {},
   "outputs": [
    {
     "data": {
      "image/png": "[encoded data removed]",
      "text/plain": [
       "<Figure size 432x288 with 1 Axes>"
      ]
     },
     "metadata": {
      "needs_background": "light"
     },
     "output_type": "display_data"
    }
   ],
   "source": [
    "import imageio\n",
    "\n",
    "import matplotlib.pyplot as plt\n",
    "\n",
    "\n",
    "img = imageio.imread(random_sample[9])\n",
    "plt.imshow(img)\n",
    "plt.show()"
   ]
  },
  {
   "cell_type": "code",
   "execution_count": null,
   "id": "734382f3-c7ec-471e-a24e-06c10fbbafab",
   "metadata": {},
   "outputs": [],
   "source": []
  }
 ],
 "metadata": {
  "kernelspec": {
   "display_name": "Python 3 (ipykernel)",
   "language": "python",
   "name": "python3"
  },
  "language_info": {
   "codemirror_mode": {
    "name": "ipython",
    "version": 3
   },
   "file_extension": ".py",
   "mimetype": "text/x-python",
   "name": "python",
   "nbconvert_exporter": "python",
   "pygments_lexer": "ipython3",
   "version": "3.9.7"
  }
 },
 "nbformat": 4,
 "nbformat_minor": 5
}
