{
 "cells": [
  {
   "cell_type": "code",
   "execution_count": 1,
   "id": "74a3b6e7-fa1d-4f7a-9b99-d6a7cf232551",
   "metadata": {},
   "outputs": [
    {
     "name": "stdout",
     "output_type": "stream",
     "text": [
      "Requirement already satisfied: numpy in /Users/adamgoldstein/opt/anaconda3/lib/python3.9/site-packages (1.20.3)\n",
      "Requirement already satisfied: imageio in /Users/adamgoldstein/opt/anaconda3/lib/python3.9/site-packages (2.9.0)\n",
      "Requirement already satisfied: matplotlib in /Users/adamgoldstein/opt/anaconda3/lib/python3.9/site-packages (3.4.3)\n",
      "Requirement already satisfied: pillow in /Users/adamgoldstein/opt/anaconda3/lib/python3.9/site-packages (from imageio) (8.4.0)\n",
      "Requirement already satisfied: pyparsing>=2.2.1 in /Users/adamgoldstein/opt/anaconda3/lib/python3.9/site-packages (from matplotlib) (3.0.7)\n",
      "Requirement already satisfied: kiwisolver>=1.0.1 in /Users/adamgoldstein/opt/anaconda3/lib/python3.9/site-packages (from matplotlib) (1.3.1)\n",
      "Requirement already satisfied: cycler>=0.10 in /Users/adamgoldstein/opt/anaconda3/lib/python3.9/site-packages (from matplotlib) (0.10.0)\n",
      "Requirement already satisfied: python-dateutil>=2.7 in /Users/adamgoldstein/opt/anaconda3/lib/python3.9/site-packages (from matplotlib) (2.8.1)\n",
      "Requirement already satisfied: six in /Users/adamgoldstein/opt/anaconda3/lib/python3.9/site-packages (from cycler>=0.10->matplotlib) (1.16.0)\n"
     ]
    }
   ],
   "source": [
    "!pip install numpy imageio matplotlib"
   ]
  },
  {
   "cell_type": "code",
   "execution_count": 1,
   "id": "25710c1e-a3c6-4e11-8585-ed6b2a25a0e0",
   "metadata": {},
   "outputs": [
    {
     "name": "stdout",
     "output_type": "stream",
     "text": [
      "Changed to local node\n",
      "Changed to local node\n"
     ]
    }
   ],
   "source": [
    "from ipfspy.ipfsspec import asyn\n",
    "\n",
    "from ipfspy.ipfshttpapi import IPFSApi\n",
    "\n",
    "api =  IPFSApi()\n",
    "api.change_gateway_type = 'local'"
   ]
  },
  {
   "cell_type": "code",
   "execution_count": 6,
   "id": "1e9785f9-4835-435c-97f1-8945af36540a",
   "metadata": {},
   "outputs": [],
   "source": [
    "import os\n",
    "from tqdm import tqdm\n",
    "import pandas as pd\n",
    "class DownloadDir:\n",
    "    'Download a IPFS directory to your local disk'\n",
    "    def __init__(self,\n",
    "        gateway_type:str, # Gateway to use - works on local and public \n",
    "        root_cid:str, # Root CID of the directory\n",
    "        output_folder:str, # Path to save in your local disk\n",
    "    ):\n",
    "        \n",
    "        self.api = IPFSApi(gateway_type=gateway_type)\n",
    "        self.root = root_cid\n",
    "        self.output = output_folder\n",
    "        self.full_structure = None\n",
    "    \n",
    "    def _get_links(self,\n",
    "        cid, \n",
    "        fol\n",
    "    ):\n",
    "        root_struct = {}\n",
    "        struct = {}\n",
    "        _, obj = self.api.ls_items(cid)\n",
    "        \n",
    "        links = obj[0]['Objects'][0]['Links']\n",
    "    \n",
    "        \n",
    "        for link in links:\n",
    "            name = f'{fol}/{link[\"Name\"]}'\n",
    "            hash_ = str(link['Hash'])\n",
    "            type_ = link['Type']\n",
    "\n",
    "            if type_ != 2:\n",
    "                details = self._get_links(hash_, name)\n",
    "                \n",
    "\n",
    "            else:\n",
    "                details = {'Hash': hash_,'type': type_}\n",
    "\n",
    "            struct[name] = details\n",
    "\n",
    "        root_struct[fol] = struct\n",
    "\n",
    "        return root_struct\n",
    "    \n",
    "    \n",
    "    def _save_links(self,\n",
    "        links\n",
    "    ): \n",
    "                \n",
    "        if isinstance(links,dict):\n",
    "            for k, v in links.items():\n",
    "                if \"Hash\" in links[k]:\n",
    "                    res, data = self.api.cat_items(links[k]['Hash'])\n",
    "                    with open(k, 'wb') as f:\n",
    "                        f.write(res.content)\n",
    "\n",
    "                else: \n",
    "                    if not os.path.exists(k): os.mkdir(k)\n",
    "                    self._save_links(v)\n",
    "\n",
    "\n",
    "    \n",
    "    def download(self\n",
    "    ):\n",
    "        \n",
    "        self.full_structure = self._get_links(self.root, self.output)\n",
    "        \n",
    "        self._save_links(self.full_structure)\n",
    "        return pd.DataFrame(self.full_structure)"
   ]
  },
  {
   "cell_type": "markdown",
   "id": "f89186dd-bd88-44b8-b069-80c42b1c2f5e",
   "metadata": {},
   "source": [
    "# Activeloop load dataset and use inherit sampling"
   ]
  },
  {
   "cell_type": "code",
   "execution_count": 81,
   "id": "5bca5948-29f9-49aa-b926-714daf15c375",
   "metadata": {},
   "outputs": [],
   "source": [
    "import hub\n",
    "def flow(path,ingest_path,d_path,cid=None):\n",
    "    \n",
    "    if not cid:\n",
    "\n",
    "        hub.ingest(path,ingest_path,overwrite=True,progressbar=False)   \n",
    "\n",
    "        _, data = api.add_items(ingest_path, directory=True,wrap_with_directory=True)\n",
    "\n",
    "        cid = data[-2][\"Hash\"]#-2 is to get the bottom 2nd top folder therefore the download before doesn't nest the ingest path\n",
    "    \n",
    "    download = DownloadDir('local', cid, d_path)\n",
    "    \n",
    "    b =download.download()\n",
    "    \n",
    "    ds = hub.load(d_path)\n",
    "    \n",
    "    return ds"
   ]
  },
  {
   "cell_type": "code",
   "execution_count": 88,
   "id": "d258c40e-7eda-49a9-a1e7-9b9e49c8e928",
   "metadata": {},
   "outputs": [],
   "source": [
    "import matplotlib.pyplot as plt\n",
    "import numpy as np\n",
    "def image(ds,index):\n",
    "\n",
    "    image = ds[index].numpy()\n",
    "\n",
    "\n",
    "    plt.imshow(image)\n",
    "    plt.show()"
   ]
  },
  {
   "cell_type": "code",
   "execution_count": 83,
   "id": "2acf6e67-1eeb-4967-af18-971abf0ac491",
   "metadata": {},
   "outputs": [
    {
     "name": "stdout",
     "output_type": "stream",
     "text": [
      "\n",
      "\n",
      "Ingestion Complete. No files were skipped.\n",
      "\n",
      "\n",
      "Changed to local node\n",
      "./mnist_quick loaded successfully.\n"
     ]
    }
   ],
   "source": [
    "w = flow(\"./mnist\",\"./mnist-test3\",\"./mnist_quick\")"
   ]
  },
  {
   "cell_type": "code",
   "execution_count": 92,
   "id": "de5ab568-718f-4f85-9c07-fe3c5114e3bb",
   "metadata": {},
   "outputs": [
    {
     "data": {
      "text/plain": [
       "(60000, 28, 28)"
      ]
     },
     "execution_count": 92,
     "metadata": {},
     "output_type": "execute_result"
    }
   ],
   "source": [
    "w[\"train/images\"].shape"
   ]
  },
  {
   "cell_type": "code",
   "execution_count": 90,
   "id": "cd49fa46-1320-40a8-8e4d-7b1312c401cb",
   "metadata": {},
   "outputs": [
    {
     "data": {
      "image/png": "[encoded data removed]",
      "text/plain": [
       "<Figure size 432x288 with 1 Axes>"
      ]
     },
     "metadata": {
      "needs_background": "light"
     },
     "output_type": "display_data"
    }
   ],
   "source": [
    "image(w[\"train/images\"],0)\n"
   ]
  },
  {
   "cell_type": "markdown",
   "id": "c9fb936b-34d2-414a-920a-7d448707e678",
   "metadata": {},
   "source": [
    "# Music"
   ]
  },
  {
   "cell_type": "code",
   "execution_count": 66,
   "id": "5118e314-76f7-4ca7-99e2-29276f6f2433",
   "metadata": {},
   "outputs": [
    {
     "name": "stderr",
     "output_type": "stream",
     "text": [
      "Ingesting \"class\" (0 files skipped): 100%|██████████████████████████████████████████████████████████████████████████████████████████| 6/6 [00:01<00:00,  5.01it/s]\n"
     ]
    },
    {
     "name": "stdout",
     "output_type": "stream",
     "text": [
      "\n",
      "\n",
      "Ingestion Complete. No files were skipped.\n",
      "\n",
      "\n",
      "Changed to local node\n",
      "./FinalStems loaded successfully.\n"
     ]
    }
   ],
   "source": [
    "w = flow(\"./class\",\"./stems\",\"./FinalStems\")"
   ]
  },
  {
   "cell_type": "code",
   "execution_count": 67,
   "id": "119721a9-aed7-4495-a424-ee11baa7e7d9",
   "metadata": {},
   "outputs": [
    {
     "data": {
      "image/png": "[encoded data removed]",
      "text/plain": [
       "<Figure size 432x288 with 1 Axes>"
      ]
     },
     "metadata": {
      "needs_background": "light"
     },
     "output_type": "display_data"
    }
   ],
   "source": [
    "image(w,5)"
   ]
  },
  {
   "cell_type": "markdown",
   "id": "d3aa5717-3656-4d66-b8a7-3aa1b5b2bc4b",
   "metadata": {},
   "source": [
    "# IPFS only Sample"
   ]
  },
  {
   "cell_type": "code",
   "execution_count": null,
   "id": "52b3f02b-a46e-482b-8c92-5b0ad5ac4fb3",
   "metadata": {},
   "outputs": [],
   "source": [
    "import numpy as np\n",
    "\n",
    "state = np.random.RandomState(42)\n",
    "\n",
    "random_sample = state.choice(sample,size=1,replace=True)"
   ]
  },
  {
   "cell_type": "code",
   "execution_count": null,
   "id": "780db59f-0e55-4ecd-b0c7-5d0ab47b4388",
   "metadata": {},
   "outputs": [],
   "source": [
    "random_sample.shape"
   ]
  },
  {
   "cell_type": "code",
   "execution_count": null,
   "id": "75758582-3f5c-4709-a090-4768bb2b668e",
   "metadata": {},
   "outputs": [],
   "source": [
    "import imageio\n",
    "\n",
    "import matplotlib.pyplot as plt\n",
    "\n",
    "\n",
    "img = imageio.imread(sample[0])\n",
    "plt.imshow(img)\n",
    "plt.show()"
   ]
  },
  {
   "cell_type": "code",
   "execution_count": null,
   "id": "f2d9830e-ee22-4a99-815b-e8d9d49896b1",
   "metadata": {},
   "outputs": [],
   "source": [
    "get_dag(\"Qmcy5fmrYFKJsyriJQvrQrQGaMaxjLEYmAN7KNShnSjTbQ\")"
   ]
  },
  {
   "cell_type": "code",
   "execution_count": null,
   "id": "c10f3c4c-50af-4c4c-b6a0-fb142cbecf52",
   "metadata": {},
   "outputs": [],
   "source": [
    "import requests\n",
    "\n",
    "#recursive\n",
    "def get_cid(cid):\n",
    "    \n",
    "    response = api.cat_items(cid)\n",
    "    \n",
    "    return response\n",
    "\n",
    "\n",
    "def get_dag(cid):\n",
    "    \n",
    "    response = api.dag_get(cid)\n",
    "    \n",
    "    cid_dict = [cid[\"Hash\"] for cid in response.json()[\"links\"]]\n",
    "    \n",
    "    cids_list = [cid[\"/\"] for cid in cid_dict]\n",
    "    \n",
    "    return cids_list\n",
    "\n",
    "\n",
    "def get_sample(cids:list,size=2):\n",
    "               \n",
    "    files = []    \n",
    "    \n",
    "    if not isinstance(cids,list):\n",
    "        raise TypeError(\"cids must be a list\")\n",
    "                \n",
    "    for cid in cids:\n",
    "\n",
    "        if len(files) < size:\n",
    "            response = get_cid(cid)\n",
    "\n",
    "            if response.status_code == 200:\n",
    "\n",
    "                files.append(response.content)\n",
    "\n",
    "            else:\n",
    "                dag = get_dag(cid)\n",
    "                cids +=dag #adds the list cids from dag to cids\n",
    "\n",
    "        else:\n",
    "            break\n",
    "\n",
    "    return files\n",
    "\n",
    "        \n",
    "        "
   ]
  },
  {
   "cell_type": "code",
   "execution_count": 4,
   "id": "b5101607-bc44-4556-9c15-c1b3e38f6215",
   "metadata": {},
   "outputs": [
    {
     "ename": "HTTPError",
     "evalue": "Response Status Code: 500; Error Message: invalid path \"Hash\": selected encoding not supported",
     "output_type": "error",
     "traceback": [
      "\u001b[0;31m---------------------------------------------------------------------------\u001b[0m",
      "\u001b[0;31mHTTPError\u001b[0m                                 Traceback (most recent call last)",
      "\u001b[0;32m/var/folders/bw/949q2z111js28qksbjv6ww_m0000gn/T/ipykernel_38271/549369952.py\u001b[0m in \u001b[0;36m<module>\u001b[0;34m\u001b[0m\n\u001b[1;32m      1\u001b[0m \u001b[0;31m#QmU7Q4YugrhqcjChpLaEZNiK7E98ih6Zp3kPuTFst3agLM is the cid of M\u001b[0m\u001b[0;34m\u001b[0m\u001b[0;34m\u001b[0m\u001b[0m\n\u001b[1;32m      2\u001b[0m \u001b[0;34m\u001b[0m\u001b[0m\n\u001b[0;32m----> 3\u001b[0;31m \u001b[0msample\u001b[0m \u001b[0;34m=\u001b[0m \u001b[0mget_sample\u001b[0m\u001b[0;34m(\u001b[0m\u001b[0;34m[\u001b[0m\u001b[0;34m\"Hash\"\u001b[0m\u001b[0;34m]\u001b[0m\u001b[0;34m,\u001b[0m\u001b[0msize\u001b[0m\u001b[0;34m=\u001b[0m\u001b[0;36m100\u001b[0m\u001b[0;34m)\u001b[0m\u001b[0;34m\u001b[0m\u001b[0;34m\u001b[0m\u001b[0m\n\u001b[0m\u001b[1;32m      4\u001b[0m \u001b[0;34m\u001b[0m\u001b[0m\n\u001b[1;32m      5\u001b[0m \u001b[0mlen\u001b[0m\u001b[0;34m(\u001b[0m\u001b[0msample\u001b[0m\u001b[0;34m)\u001b[0m\u001b[0;34m\u001b[0m\u001b[0;34m\u001b[0m\u001b[0m\n",
      "\u001b[0;32m/var/folders/bw/949q2z111js28qksbjv6ww_m0000gn/T/ipykernel_38271/2801058936.py\u001b[0m in \u001b[0;36mget_sample\u001b[0;34m(cids, size)\u001b[0m\n\u001b[1;32m     30\u001b[0m \u001b[0;34m\u001b[0m\u001b[0m\n\u001b[1;32m     31\u001b[0m         \u001b[0;32mif\u001b[0m \u001b[0mlen\u001b[0m\u001b[0;34m(\u001b[0m\u001b[0mfiles\u001b[0m\u001b[0;34m)\u001b[0m \u001b[0;34m<\u001b[0m \u001b[0msize\u001b[0m\u001b[0;34m:\u001b[0m\u001b[0;34m\u001b[0m\u001b[0;34m\u001b[0m\u001b[0m\n\u001b[0;32m---> 32\u001b[0;31m             \u001b[0mresponse\u001b[0m \u001b[0;34m=\u001b[0m \u001b[0mget_cid\u001b[0m\u001b[0;34m(\u001b[0m\u001b[0mcid\u001b[0m\u001b[0;34m)\u001b[0m\u001b[0;34m\u001b[0m\u001b[0;34m\u001b[0m\u001b[0m\n\u001b[0m\u001b[1;32m     33\u001b[0m \u001b[0;34m\u001b[0m\u001b[0m\n\u001b[1;32m     34\u001b[0m             \u001b[0;32mif\u001b[0m \u001b[0mresponse\u001b[0m\u001b[0;34m.\u001b[0m\u001b[0mstatus_code\u001b[0m \u001b[0;34m==\u001b[0m \u001b[0;36m200\u001b[0m\u001b[0;34m:\u001b[0m\u001b[0;34m\u001b[0m\u001b[0;34m\u001b[0m\u001b[0m\n",
      "\u001b[0;32m/var/folders/bw/949q2z111js28qksbjv6ww_m0000gn/T/ipykernel_38271/2801058936.py\u001b[0m in \u001b[0;36mget_cid\u001b[0;34m(cid)\u001b[0m\n\u001b[1;32m      4\u001b[0m \u001b[0;32mdef\u001b[0m \u001b[0mget_cid\u001b[0m\u001b[0;34m(\u001b[0m\u001b[0mcid\u001b[0m\u001b[0;34m)\u001b[0m\u001b[0;34m:\u001b[0m\u001b[0;34m\u001b[0m\u001b[0;34m\u001b[0m\u001b[0m\n\u001b[1;32m      5\u001b[0m \u001b[0;34m\u001b[0m\u001b[0m\n\u001b[0;32m----> 6\u001b[0;31m     \u001b[0mresponse\u001b[0m \u001b[0;34m=\u001b[0m \u001b[0mapi\u001b[0m\u001b[0;34m.\u001b[0m\u001b[0mcat_items\u001b[0m\u001b[0;34m(\u001b[0m\u001b[0mcid\u001b[0m\u001b[0;34m)\u001b[0m\u001b[0;34m\u001b[0m\u001b[0;34m\u001b[0m\u001b[0m\n\u001b[0m\u001b[1;32m      7\u001b[0m \u001b[0;34m\u001b[0m\u001b[0m\n\u001b[1;32m      8\u001b[0m     \u001b[0;32mreturn\u001b[0m \u001b[0mresponse\u001b[0m\u001b[0;34m\u001b[0m\u001b[0;34m\u001b[0m\u001b[0m\n",
      "\u001b[0;32m~/opt/anaconda3/lib/python3.9/site-packages/ipfspy/ipfshttpapi.py\u001b[0m in \u001b[0;36mcat_items\u001b[0;34m(self, cid, **kwargs)\u001b[0m\n\u001b[1;32m    180\u001b[0m \u001b[0;34m\u001b[0m\u001b[0m\n\u001b[1;32m    181\u001b[0m         \u001b[0;32melse\u001b[0m\u001b[0;34m:\u001b[0m\u001b[0;34m\u001b[0m\u001b[0;34m\u001b[0m\u001b[0m\n\u001b[0;32m--> 182\u001b[0;31m             \u001b[0;32mraise\u001b[0m \u001b[0mHTTPError\u001b[0m \u001b[0;34m(\u001b[0m\u001b[0mparse_error_message\u001b[0m\u001b[0;34m(\u001b[0m\u001b[0mresponse\u001b[0m\u001b[0;34m)\u001b[0m\u001b[0;34m)\u001b[0m\u001b[0;34m\u001b[0m\u001b[0;34m\u001b[0m\u001b[0m\n\u001b[0m\u001b[1;32m    183\u001b[0m \u001b[0;34m\u001b[0m\u001b[0m\n\u001b[1;32m    184\u001b[0m     def dag_export(self,\n",
      "\u001b[0;31mHTTPError\u001b[0m: Response Status Code: 500; Error Message: invalid path \"Hash\": selected encoding not supported"
     ]
    }
   ],
   "source": [
    "#QmU7Q4YugrhqcjChpLaEZNiK7E98ih6Zp3kPuTFst3agLM is the cid of M\n",
    "\n",
    "sample = get_sample([\"Hash\"],size=100)\n",
    "\n",
    "len(sample)"
   ]
  },
  {
   "cell_type": "code",
   "execution_count": 5,
   "id": "8e1c77ae-e876-424e-b026-a97723266fc9",
   "metadata": {},
   "outputs": [],
   "source": [
    "import requests\n",
    "\n",
    "#recursive\n",
    "def get_cid(cid):\n",
    "    \n",
    "    responses = []\n",
    "    \n",
    "    params = {\n",
    "        'arg': cid,\n",
    "        'progress': 'true',\n",
    "    }\n",
    "\n",
    "    response = requests.post('http://127.0.0.1:5001/api/v0/cat', params=params)\n",
    "    \n",
    "    return response\n",
    "\n",
    "\n",
    "def get_dag(cid):\n",
    "    \n",
    "    params = {\n",
    "        'arg': cid,\n",
    "        'output-codec': 'dag-json',\n",
    "    }\n",
    "\n",
    "    response = requests.post('http://127.0.0.1:5001/api/v0/dag/get', params=params)\n",
    "    \n",
    "    cid_list = [c[\"Hash\"][\"/\"] for c in response.json()[\"Links\"]]\n",
    "    \n",
    "    return cid_list\n",
    "\n",
    "\n",
    "def get_sample(cids:list,size=2):\n",
    "               \n",
    "    files = []\n",
    "    \n",
    "    \n",
    "    if not isinstance(cids,list):\n",
    "        raise TypeError(\"cids must be a list\")\n",
    "                \n",
    "    for cid in cids:\n",
    "\n",
    "        if len(files) < size:\n",
    "            response = get_cid(cid)\n",
    "\n",
    "            if response.status_code == 200:\n",
    "\n",
    "                files.append(response.content)\n",
    "\n",
    "            else:\n",
    "                dag = get_dag(cid)\n",
    "                cids +=dag #adds the list cids from dag to cids\n",
    "\n",
    "        else:\n",
    "            break\n",
    "\n",
    "    return files\n",
    "\n",
    "        \n",
    "        "
   ]
  },
  {
   "cell_type": "code",
   "execution_count": null,
   "id": "ea879acb-1626-4080-b2d0-625fffbd9bc6",
   "metadata": {},
   "outputs": [],
   "source": []
  }
 ],
 "metadata": {
  "kernelspec": {
   "display_name": "Python 3 (ipykernel)",
   "language": "python",
   "name": "python3"
  },
  "language_info": {
   "codemirror_mode": {
    "name": "ipython",
    "version": 3
   },
   "file_extension": ".py",
   "mimetype": "text/x-python",
   "name": "python",
   "nbconvert_exporter": "python",
   "pygments_lexer": "ipython3",
   "version": "3.9.7"
  }
 },
 "nbformat": 4,
 "nbformat_minor": 5
}
