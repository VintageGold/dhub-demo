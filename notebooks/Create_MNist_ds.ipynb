{
 "cells": [
  {
   "cell_type": "code",
   "execution_count": 9,
   "id": "54820c1a-39be-4ccf-a162-32ec95946942",
   "metadata": {},
   "outputs": [
    {
     "name": "stderr",
     "output_type": "stream",
     "text": [
      "/Users/adamgoldstein/opt/anaconda3/lib/python3.9/site-packages/hub/util/check_latest_version.py:32: UserWarning: A newer version of hub (2.7.5) is available. It's recommended that you update to the latest version using `pip install -U hub`.\n",
      "  warnings.warn(\n"
     ]
    }
   ],
   "source": [
    "from pinata import Pinata\n",
    "from metadata import DatasetMetadata\n",
    "from activeloop import ActiveLoopDS\n",
    "import pandas as pd\n",
    "import pickle\n",
    "import numpy as np\n",
    "\n",
    "pd.set_option('display.max_colwidth', 1000)"
   ]
  },
  {
   "cell_type": "code",
   "execution_count": 20,
   "id": "e9a8f109-deea-4e38-824d-098d5bf7ff1f",
   "metadata": {
    "tags": []
   },
   "outputs": [],
   "source": [
    "import imageio\n",
    "import os\n",
    "from tqdm import tqdm\n",
    "\n",
    "def write_tonumpy(parent_directory,subdirectory,images,labels,chunks=5):\n",
    "    \n",
    "    if not os.path.exists(parent_directory):\n",
    "        os.mkdir(parent_directory)\n",
    "        \n",
    "        \n",
    "    if not os.path.exists(os.path.join(parent_directory,subdirectory)):\n",
    "        os.mkdir(os.path.join(parent_directory,subdirectory))\n",
    "        \n",
    "        \n",
    "    for label in tqdm(np.unique(labels).tolist()):\n",
    "        \n",
    "        label_mask = labels[labels == label]\n",
    "\n",
    "        image_mask = images[label_mask]\n",
    "\n",
    "        images_split = np.array_split(image_mask,chunks)\n",
    "            \n",
    "        for index,img in enumerate(images_split):\n",
    "\n",
    "            path = os.path.join(parent_directory, str(label))\n",
    "\n",
    "            if os.path.exists(path):\n",
    "                \n",
    "                complete_path = os.path.join(path,f\"sample_{index}.npy\")\n",
    "\n",
    "                np.save(complete_path, img, allow_pickle=False, fix_imports=True)\n",
    "\n",
    "            else:\n",
    "                os.mkdir(path)\n",
    "                \n",
    "                complete_path = os.path.join(path,f\"sample_{index}.npy\")\n",
    "                \n",
    "                np.save(complete_path, img, allow_pickle=False, fix_imports=True)\n",
    "\n",
    "        print(\"Done, images can be found at\",parent_directory)\n",
    "\n",
    "\n",
    "def write_toimage(parent_directory,subdirectory,images,labels):\n",
    "    \n",
    "    if not os.path.exists(parent_directory):\n",
    "        os.mkdir(parent_directory)\n",
    "        \n",
    "        \n",
    "    if not os.path.exists(os.path.join(parent_directory,subdirectory)):\n",
    "        os.mkdir(os.path.join(parent_directory,subdirectory))\n",
    "    \n",
    "    counter = 0\n",
    "\n",
    "    for img,label in tqdm(zip(images, labels)):\n",
    "\n",
    "        path = os.path.join(parent_directory, str(label[0]))\n",
    "\n",
    "        if os.path.exists(path):\n",
    "\n",
    "            imageio.imwrite(os.path.join(path,f\"{str(counter)}.jpg\"),img)\n",
    "\n",
    "        else:\n",
    "            os.mkdir(path)\n",
    "            imageio.imwrite(os.path.join(path,f\"{str(counter)}.jpg\"),img)\n",
    "\n",
    "        counter += 1\n",
    "        \n",
    "    print(\"Done, images can be found at\",parent_directory)\n",
    "    "
   ]
  },
  {
   "cell_type": "code",
   "execution_count": null,
   "id": "9ba69d26-17ce-4673-89cb-359237080764",
   "metadata": {},
   "outputs": [],
   "source": [
    "AL = ActiveLoopDS(\"hub://activeloop\",path=\"mnist\")"
   ]
  },
  {
   "cell_type": "code",
   "execution_count": null,
   "id": "34dbd1db-1a55-460f-9bec-c976e3033d2f",
   "metadata": {},
   "outputs": [],
   "source": [
    "AL.load_dataset()"
   ]
  },
  {
   "cell_type": "code",
   "execution_count": 14,
   "id": "bdaba1d4-961a-44b3-aded-a4d72c24b2e0",
   "metadata": {},
   "outputs": [],
   "source": [
    "train_images = AL.train.images.numpy()\n",
    "train_labels = AL.train.labels.numpy()"
   ]
  },
  {
   "cell_type": "code",
   "execution_count": 21,
   "id": "f77c9c83-017e-4633-acdb-1d2d85bfe60d",
   "metadata": {},
   "outputs": [],
   "source": [
    "test_images = AL.test.images.numpy()\n",
    "test_labels = AL.test.labels.numpy()"
   ]
  },
  {
   "cell_type": "code",
   "execution_count": 24,
   "id": "f754246c-816d-4dec-9ec3-e27e2f7b960b",
   "metadata": {},
   "outputs": [
    {
     "name": "stderr",
     "output_type": "stream",
     "text": [
      " 70%|██████████████████████████████▊             | 7/10 [00:00<00:00, 33.73it/s]"
     ]
    },
    {
     "name": "stdout",
     "output_type": "stream",
     "text": [
      "Done, images can be found at mnist_np\n",
      "Done, images can be found at mnist_np\n",
      "Done, images can be found at mnist_np\n",
      "Done, images can be found at mnist_np\n",
      "Done, images can be found at mnist_np\n",
      "Done, images can be found at mnist_np\n",
      "Done, images can be found at mnist_np\n"
     ]
    },
    {
     "name": "stderr",
     "output_type": "stream",
     "text": [
      "100%|███████████████████████████████████████████| 10/10 [00:00<00:00, 35.53it/s]\n"
     ]
    },
    {
     "name": "stdout",
     "output_type": "stream",
     "text": [
      "Done, images can be found at mnist_np\n",
      "Done, images can be found at mnist_np\n",
      "Done, images can be found at mnist_np\n"
     ]
    },
    {
     "name": "stderr",
     "output_type": "stream",
     "text": [
      "100%|███████████████████████████████████████████| 10/10 [00:00<00:00, 95.05it/s]"
     ]
    },
    {
     "name": "stdout",
     "output_type": "stream",
     "text": [
      "Done, images can be found at mnist_np\n",
      "Done, images can be found at mnist_np\n",
      "Done, images can be found at mnist_np\n",
      "Done, images can be found at mnist_np\n",
      "Done, images can be found at mnist_np\n",
      "Done, images can be found at mnist_np\n",
      "Done, images can be found at mnist_np\n",
      "Done, images can be found at mnist_np\n",
      "Done, images can be found at mnist_np\n",
      "Done, images can be found at mnist_np\n"
     ]
    },
    {
     "name": "stderr",
     "output_type": "stream",
     "text": [
      "\n"
     ]
    }
   ],
   "source": [
    "write_tonumpy(parent_directory=\"mnist_np\",subdirectory=\"train\",images=train_images,labels=train_labels,chunks=10)\n",
    "write_tonumpy(parent_directory=\"mnist_np\",subdirectory=\"test\",images=test_images,labels=test_labels,chunks=10)"
   ]
  },
  {
   "cell_type": "code",
   "execution_count": 25,
   "id": "5a3bc040-2046-46f7-84f0-fd6fcdd41ebc",
   "metadata": {},
   "outputs": [
    {
     "name": "stderr",
     "output_type": "stream",
     "text": [
      "60000it [00:30, 1937.98it/s]\n"
     ]
    },
    {
     "name": "stdout",
     "output_type": "stream",
     "text": [
      "Done, images can be found at mnist\n"
     ]
    },
    {
     "name": "stderr",
     "output_type": "stream",
     "text": [
      "10000it [00:05, 1846.15it/s]"
     ]
    },
    {
     "name": "stdout",
     "output_type": "stream",
     "text": [
      "Done, images can be found at mnist\n"
     ]
    },
    {
     "name": "stderr",
     "output_type": "stream",
     "text": [
      "\n"
     ]
    }
   ],
   "source": [
    "write_toimage(parent_directory=\"mnist\",subdirectory=\"train\",images=train_images,labels=train_labels)\n",
    "write_toimage(parent_directory=\"mnist\",subdirectory=\"test\",images=test_images,labels=test_labels)"
   ]
  },
  {
   "cell_type": "code",
   "execution_count": 127,
   "id": "0068eb9c-9591-4888-9488-20c6b69b94ea",
   "metadata": {},
   "outputs": [
    {
     "data": {
      "text/plain": [
       "array([0, 1, 2, 3, 4, 5, 6, 7, 8, 9], dtype=uint32)"
      ]
     },
     "execution_count": 127,
     "metadata": {},
     "output_type": "execute_result"
    }
   ],
   "source": [
    "np.unique(train_labels)"
   ]
  },
  {
   "cell_type": "code",
   "execution_count": 18,
   "id": "ac95c27a-26c1-4b1d-ac36-4c19c08dfb18",
   "metadata": {},
   "outputs": [
    {
     "data": {
      "image/png": "[encoded data removed]",
      "text/plain": [
       "<Figure size 432x288 with 1 Axes>"
      ]
     },
     "metadata": {
      "needs_background": "light"
     },
     "output_type": "display_data"
    }
   ],
   "source": [
    "import imageio\n",
    "\n",
    "import matplotlib.pyplot as plt\n",
    "\n",
    "\n",
    "img = imageio.imread('mnist/test/0/10.jpg')\n",
    "plt.imshow(img)\n",
    "plt.show()"
   ]
  },
  {
   "cell_type": "code",
   "execution_count": 19,
   "id": "9eaa3c47-f22b-4adb-bbdd-640573548518",
   "metadata": {},
   "outputs": [
    {
     "ename": "AssertionError",
     "evalue": "",
     "output_type": "error",
     "traceback": [
      "\u001b[0;31m---------------------------------------------------------------------------\u001b[0m",
      "\u001b[0;31mAssertionError\u001b[0m                            Traceback (most recent call last)",
      "\u001b[0;32m/var/folders/bw/949q2z111js28qksbjv6ww_m0000gn/T/ipykernel_63521/351952524.py\u001b[0m in \u001b[0;36m<module>\u001b[0;34m\u001b[0m\n\u001b[0;32m----> 1\u001b[0;31m \u001b[0;32massert\u001b[0m \u001b[0;36m1\u001b[0m \u001b[0;34m==\u001b[0m \u001b[0;36m0\u001b[0m\u001b[0;34m\u001b[0m\u001b[0;34m\u001b[0m\u001b[0m\n\u001b[0m",
      "\u001b[0;31mAssertionError\u001b[0m: "
     ]
    }
   ],
   "source": [
    "assert 1 == 0"
   ]
  },
  {
   "cell_type": "markdown",
   "id": "66a99733-422b-4bfc-92dd-429f65b809d3",
   "metadata": {
    "tags": []
   },
   "source": [
    "# IPFSpy"
   ]
  },
  {
   "cell_type": "code",
   "execution_count": 185,
   "id": "7f906387-3a6e-4f43-b290-9fa0e510923b",
   "metadata": {},
   "outputs": [],
   "source": [
    "from ipfspy.ipfsspec import asyn\n",
    "\n",
    "from ipfspy.ipfshttpapi import IPFSApi"
   ]
  },
  {
   "cell_type": "code",
   "execution_count": 186,
   "id": "2da72465-ba20-4e5f-b44b-9192df8acb4f",
   "metadata": {},
   "outputs": [],
   "source": [
    "#|ignoretest\n",
    "import fsspec, os, io, glob, asyncio\n",
    "from ipfspy.ipfsspec.asyn import AsyncIPFSFileSystem\n",
    "from fsspec import register_implementation\n",
    "\n",
    "# register_implementation(IPFSFileSystem.protocol, IPFSFileSystem)\n",
    "register_implementation(AsyncIPFSFileSystem.protocol, AsyncIPFSFileSystem)\n",
    "\n",
    "# with fsspec.open(\"ipfs://QmZ4tDuvesekSs4qM5ZBKpXiZGun7S2CYtEZRB3DYXkjGx\", \"r\") as f:\n",
    "#     print(f.read())\n",
    "class fs:\n",
    "    ipfs = fsspec.filesystem(\"ipfs\")\n",
    "    file = fsspec.filesystem(\"file\")"
   ]
  },
  {
   "cell_type": "code",
   "execution_count": 187,
   "id": "16c6a01c-46bc-4504-a37d-52f01d8369f7",
   "metadata": {},
   "outputs": [
    {
     "name": "stdout",
     "output_type": "stream",
     "text": [
      "Changed to local node\n"
     ]
    }
   ],
   "source": [
    "fs.ipfs.change_gateway_type = 'local'"
   ]
  },
  {
   "cell_type": "code",
   "execution_count": 205,
   "id": "9caa7b29-5106-4253-ba5c-438dd08b1fa2",
   "metadata": {},
   "outputs": [],
   "source": [
    "w = fs.ipfs.put(path='mnist', rpath='/mnist', recursive=True, return_cid=True)"
   ]
  },
  {
   "cell_type": "code",
   "execution_count": null,
   "id": "9a9c9fb1-2bee-4325-a923-dc077710fd21",
   "metadata": {},
   "outputs": [],
   "source": []
  },
  {
   "cell_type": "code",
   "execution_count": null,
   "id": "1172c465-0cc4-403a-99da-ca3d457cffe6",
   "metadata": {},
   "outputs": [],
   "source": []
  }
 ],
 "metadata": {
  "kernelspec": {
   "display_name": "Python 3 (ipykernel)",
   "language": "python",
   "name": "python3"
  },
  "language_info": {
   "codemirror_mode": {
    "name": "ipython",
    "version": 3
   },
   "file_extension": ".py",
   "mimetype": "text/x-python",
   "name": "python",
   "nbconvert_exporter": "python",
   "pygments_lexer": "ipython3",
   "version": "3.9.7"
  }
 },
 "nbformat": 4,
 "nbformat_minor": 5
}
